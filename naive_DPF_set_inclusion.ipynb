{
 "cells": [
  {
   "cell_type": "code",
   "execution_count": 1,
   "metadata": {},
   "outputs": [],
   "source": [
    "import galois\n",
    "from naive_DPF import NaiveDPF "
   ]
  },
  {
   "attachments": {},
   "cell_type": "markdown",
   "metadata": {},
   "source": [
    "## Private Set Inclusion\n",
    "\n",
    "> *TLDR: I want to know if a database has an item at index $i$, but I don't want the database to know which index I am interested in*\n",
    "\n",
    "This notebook demonstrates using a DPF to determine whether an element is in a set. In the example below, we have a database of size 10. Our goal is to determine whether the there is something stored at index 5 in the database. \n",
    "\n",
    "### Non-private Set Inclusion\n",
    "\n",
    "If we do not care about privacy we can simply ask if the index 5 is filled. This works however it leaks to the entity running the database that we wanted to know something about index 5.\n",
    "\n",
    "```python \n",
    "filled_database_indexes = {3, 4, 5}\n",
    "\n",
    "# Non-privacy preserving set inclusion\n",
    "5 in filled_database_indexes\n",
    "```\n",
    "\n",
    "### Private Implementation\n",
    "\n",
    "By evaluating the point function at a specific index we can determine if the index is filled. \n",
    "If we do this for a single index the database owner can determine which index we are interested in. To prevent this we can use a DPF to evaluate the point function at all indices."
   ]
  },
  {
   "cell_type": "code",
   "execution_count": 2,
   "metadata": {},
   "outputs": [],
   "source": [
    "# Useful for both examples\n",
    "filled_database_indexes = {3, 4, 5}\n",
    "DPF = NaiveDPF(GF=galois.GF2, num_outputs=10)"
   ]
  },
  {
   "cell_type": "code",
   "execution_count": 3,
   "metadata": {},
   "outputs": [
    {
     "name": "stdout",
     "output_type": "stream",
     "text": [
      "The set contains the point 5\n"
     ]
    }
   ],
   "source": [
    "# 5 is in the set, so we should get an output of 1\n",
    "sk_0, sk_1 = DPF.gen_keys(x=5, y=galois.GF2(1))\n",
    "\n",
    "# Iterate through all indexes in the database and sum the values\n",
    "sum_0, sum_1 = galois.GF2(0), galois.GF2(0)\n",
    "for index in filled_database_indexes:\n",
    "    sum_0 += DPF.eval_key(sk_0, index)\n",
    "    sum_1 += DPF.eval_key(sk_1, index)\n",
    "\n",
    "if sum_0 + sum_1 == galois.GF2(1):\n",
    "    print(\"The set contains the point 5\")\n",
    "else:\n",
    "    print(\"The set does not contain the point 5\")"
   ]
  },
  {
   "cell_type": "code",
   "execution_count": 4,
   "metadata": {},
   "outputs": [
    {
     "name": "stdout",
     "output_type": "stream",
     "text": [
      "The set does not contain the point 9\n"
     ]
    }
   ],
   "source": [
    "# 9 is NOT in the set, so we should get an output of 0\n",
    "sk_0, sk_1 = DPF.gen_keys(x=9, y=galois.GF2(1))\n",
    "\n",
    "# Iterate through all indexes in the database and sum the values\n",
    "sum_0, sum_1 = galois.GF2(0), galois.GF2(0)\n",
    "for index in filled_database_indexes:\n",
    "    sum_0 += DPF.eval_key(sk_0, index)\n",
    "    sum_1 += DPF.eval_key(sk_1, index)\n",
    "\n",
    "if sum_0 + sum_1 == galois.GF2(1):\n",
    "    print(\"The set contains the point 9\")\n",
    "else:\n",
    "    print(\"The set does not contain the point 9\")\n"
   ]
  }
 ],
 "metadata": {
  "kernelspec": {
   "display_name": "Python 3.10.4 64-bit",
   "language": "python",
   "name": "python3"
  },
  "language_info": {
   "codemirror_mode": {
    "name": "ipython",
    "version": 3
   },
   "file_extension": ".py",
   "mimetype": "text/x-python",
   "name": "python",
   "nbconvert_exporter": "python",
   "pygments_lexer": "ipython3",
   "version": "3.10.4"
  },
  "orig_nbformat": 4,
  "vscode": {
   "interpreter": {
    "hash": "2ab98c4b59af728aa8bd9922870b996a7fc5861c87b81242319b92eec59b5fef"
   }
  }
 },
 "nbformat": 4,
 "nbformat_minor": 2
}
