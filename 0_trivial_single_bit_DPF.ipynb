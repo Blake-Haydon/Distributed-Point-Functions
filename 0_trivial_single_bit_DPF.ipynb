{
 "cells": [
  {
   "cell_type": "code",
   "execution_count": 1,
   "metadata": {},
   "outputs": [],
   "source": [
    "import numpy as np\n",
    "import matplotlib.pyplot as plt\n",
    "from bitarray.util import urandom"
   ]
  },
  {
   "cell_type": "markdown",
   "metadata": {},
   "source": [
    "## Point Function\n",
    "[Distributed Point Function](https://en.wikipedia.org/wiki/Distributed_point_function) is a point function similar to a [delta function](https://en.wikipedia.org/wiki/Kronecker_delta) except the output can be equal to any value at the point. A point function is defined as:\n",
    "\n",
    "$$P_{x,y}(x) = y$$\n",
    "$$P_{x,y}(x') = 0$$\n",
    "\n",
    "For all $x' \\neq x$. "
   ]
  },
  {
   "cell_type": "code",
   "execution_count": 2,
   "metadata": {},
   "outputs": [
    {
     "data": {
      "text/plain": [
       "<BarContainer object of 32 artists>"
      ]
     },
     "execution_count": 2,
     "metadata": {},
     "output_type": "execute_result"
    },
    {
     "data": {
      "image/png": "[encoded data removed]",
      "text/plain": [
       "<Figure size 432x288 with 1 Axes>"
      ]
     },
     "metadata": {
      "needs_background": "light"
     },
     "output_type": "display_data"
    }
   ],
   "source": [
    "# Simple Point Function (PF) with 32 elements and P(3) = 1\n",
    "x = 3\n",
    "y = 1\n",
    "DOMAIN_SIZE = 32\n",
    "\n",
    "# Define the PF\n",
    "P = np.zeros(DOMAIN_SIZE)\n",
    "P[x] = y\n",
    "\n",
    "plt.bar(np.arange(DOMAIN_SIZE), P)"
   ]
  },
  {
   "cell_type": "markdown",
   "metadata": {},
   "source": [
    "## Distributed Point Function: 2 Parties\n"
   ]
  },
  {
   "cell_type": "code",
   "execution_count": 3,
   "metadata": {},
   "outputs": [],
   "source": [
    "# Assume that y = 1\n",
    "def Gen(x):\n",
    "    # Generate a random key for k0\n",
    "    k0 = urandom(DOMAIN_SIZE)\n",
    "    \n",
    "    # Derive k1 from k0 by flipping the bit that corresponds to x\n",
    "    k1 = k0.copy()\n",
    "    k1[x] = not k1[x]\n",
    "    return (k0, k1)\n",
    "\n",
    "def Eval(k, x):\n",
    "    return k[x]"
   ]
  },
  {
   "cell_type": "code",
   "execution_count": 4,
   "metadata": {},
   "outputs": [
    {
     "data": {
      "text/plain": [
       "<BarContainer object of 32 artists>"
      ]
     },
     "execution_count": 4,
     "metadata": {},
     "output_type": "execute_result"
    },
    {
     "data": {
      "image/png": "[encoded data removed]",
      "text/plain": [
       "<Figure size 432x288 with 1 Axes>"
      ]
     },
     "metadata": {
      "needs_background": "light"
     },
     "output_type": "display_data"
    }
   ],
   "source": [
    "k0, k1 = Gen(x=3)\n",
    "\n",
    "eval0_output = np.zeros(DOMAIN_SIZE)\n",
    "eval1_output = np.zeros(DOMAIN_SIZE)\n",
    "for i in range(DOMAIN_SIZE):\n",
    "    eval0_output[i] = Eval(k=k0, x=i)\n",
    "    eval1_output[i] = Eval(k=k1, x=i)\n",
    "\n",
    "# Observe that the point function looks random from an Eval perspective    \n",
    "# I have flipped eval1 to highlight that the outputs are symmetric apart from the point which is different\n",
    "plt.bar(np.arange(DOMAIN_SIZE), eval0_output)\n",
    "plt.bar(np.arange(DOMAIN_SIZE), -eval1_output) "
   ]
  },
  {
   "cell_type": "code",
   "execution_count": 5,
   "metadata": {},
   "outputs": [],
   "source": [
    "# Eval is to be done separately by each party (no communication of eval should be done between parties)\n",
    "# We will evaluate the function at x=3 (the point), this should yield y=1\n",
    "eval0 = Eval(k=k1, x=3)\n",
    "eval1 = Eval(k=k0, x=3)\n",
    "\n",
    "# Taking the XOR of the two evaluations will reveal the value of the function at x=3\n",
    "assert eval0 ^ eval1 == 1\n",
    "\n",
    "\n",
    "# We will evaluate the function at x=10 (not the point), this should yield 0\n",
    "eval0 = Eval(k=k1, x=10)\n",
    "eval1 = Eval(k=k0, x=10)\n",
    "\n",
    "assert eval0 ^ eval1 == 0"
   ]
  },
  {
   "cell_type": "markdown",
   "metadata": {},
   "source": [
    "## Private Information Retrieval (PIR): Set inclusion"
   ]
  },
  {
   "cell_type": "code",
   "execution_count": 6,
   "metadata": {},
   "outputs": [],
   "source": [
    "# We will check for set inclusion on the set w\n",
    "w = {3, 4, 5}\n",
    "\n",
    "# Initialize the evaluations to 0 (could be 1 as well as long as they are the same)\n",
    "eval0, eval1 = 0, 0 \n",
    "for element in w:\n",
    "    eval0 ^= Eval(k=k0, x=element)\n",
    "    eval1 ^= Eval(k=k1, x=element)\n",
    "\n",
    "# The set w contains 3 and the point function is 1 at 3\n",
    "# This is essentially a privacy preserving test for inclusion as both parties do not\n",
    "# know what value they are checking for in the set w\n",
    "assert eval0 ^ eval1 == 1 \n",
    "\n",
    "# If we alter the set w to not contain the point, the evaluation will be 0\n",
    "w = {4, 5}\n",
    "eval0, eval1 = 0, 0\n",
    "for element in w:\n",
    "    eval0 ^= Eval(k=k0, x=element)\n",
    "    eval1 ^= Eval(k=k1, x=element)\n",
    "\n",
    "assert eval0 ^ eval1 == 0"
   ]
  }
 ],
 "metadata": {
  "kernelspec": {
   "display_name": "Python 3.10.4 64-bit",
   "language": "python",
   "name": "python3"
  },
  "language_info": {
   "codemirror_mode": {
    "name": "ipython",
    "version": 3
   },
   "file_extension": ".py",
   "mimetype": "text/x-python",
   "name": "python",
   "nbconvert_exporter": "python",
   "pygments_lexer": "ipython3",
   "version": "3.10.4"
  },
  "orig_nbformat": 4,
  "vscode": {
   "interpreter": {
    "hash": "2ab98c4b59af728aa8bd9922870b996a7fc5861c87b81242319b92eec59b5fef"
   }
  }
 },
 "nbformat": 4,
 "nbformat_minor": 2
}
