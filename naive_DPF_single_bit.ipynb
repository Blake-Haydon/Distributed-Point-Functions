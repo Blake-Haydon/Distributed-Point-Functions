{
 "cells": [
  {
   "cell_type": "code",
   "execution_count": 1,
   "metadata": {},
   "outputs": [],
   "source": [
    "import numpy as np\n",
    "import galois\n",
    "import matplotlib.pyplot as plt\n",
    "from naive_DPF import NaiveDPF "
   ]
  },
  {
   "attachments": {},
   "cell_type": "markdown",
   "metadata": {},
   "source": [
    "## Point Function\n",
    "A [Distributed Point Function](https://en.wikipedia.org/wiki/Distributed_point_function) is a point function similar to a [delta function](https://en.wikipedia.org/wiki/Kronecker_delta) except the output can be equal to any value at the point. A point function is defined for all $x' \\neq x$ as:\n",
    "\n",
    "$$P_{x,y}(x) = y$$\n",
    "$$P_{x,y}(x') = 0$$\n",
    "\n",
    "Below is a simple example of a point function, where there is a single point when $x = 4$. The value of the point function is $y = 1$."
   ]
  },
  {
   "cell_type": "code",
   "execution_count": 2,
   "metadata": {},
   "outputs": [
    {
     "data": {
      "image/png": "[encoded data removed]",
      "text/plain": [
       "<Figure size 432x288 with 1 Axes>"
      ]
     },
     "metadata": {
      "needs_background": "light"
     },
     "output_type": "display_data"
    }
   ],
   "source": [
    "x = 4\n",
    "y = 1\n",
    "\n",
    "# Define the PF\n",
    "P = np.zeros(10)\n",
    "P[x] = y\n",
    "\n",
    "# Plot the point function\n",
    "plt.title(\"Point Function for $x=4$ and $y=1$\")\n",
    "plt.xlabel(\"x\")\n",
    "plt.ylabel(\"y\")\n",
    "plt.bar(np.arange(10), P)\n",
    "plt.show()"
   ]
  },
  {
   "attachments": {},
   "cell_type": "markdown",
   "metadata": {},
   "source": [
    "## 2 Party DPF: Single Bit\n",
    "\n",
    "This example highlights that for a single bit point function the keys be identical apart from a single bit. This is so that when the keys are added together the result is the point function. The code below highlights how the single bit that is different hides the point function."
   ]
  },
  {
   "cell_type": "code",
   "execution_count": 3,
   "metadata": {},
   "outputs": [
    {
     "name": "stdout",
     "output_type": "stream",
     "text": [
      "Secret Key 0:      [1 0 0 0 1 1 0 0 0 1]\n",
      "Secret Key 1:      [1 0 0 0 0 1 0 0 0 1]\n",
      "Added Secret Keys: [0 0 0 0 1 0 0 0 0 0]\n",
      "Observe how the secret keys additively cancel for all x != 4\n",
      "This allows us to hide the point function from each evaluator\n",
      "\n",
      "Evaluating Secret Key 0 at x=4 is: 1\n",
      "Evaluating Secret Key 1 at x=4 is: 0\n",
      "Therefore, \n",
      "(Secret Key 0) + (Secret Key 1) = 1 = y\n"
     ]
    }
   ],
   "source": [
    "DPF = NaiveDPF(galois.GF2, num_outputs=10)\n",
    "\n",
    "# Generate function with the following parameters:\n",
    "x = 4\n",
    "y = galois.GF2(1)\n",
    "\n",
    "# Generate the secret keys\n",
    "sk_0, sk_1 = DPF.gen_keys(x, y)\n",
    "print(\"Secret Key 0:     \", sk_0)\n",
    "print(\"Secret Key 1:     \", sk_1)\n",
    "print(\"Added Secret Keys:\", sk_0 + sk_1)\n",
    "print(\"Observe how the secret keys additively cancel for all x != 4\")\n",
    "print(\"This allows us to hide the point function from each evaluator\")\n",
    "\n",
    "\n",
    "# Evaluate the secret keys at x\n",
    "print(\"\\nEvaluating Secret Key 0 at x=4 is:\", DPF.eval_key(sk_0, 4))\n",
    "print(\"Evaluating Secret Key 1 at x=4 is:\", DPF.eval_key(sk_1, 4))\n",
    "print(f\"Therefore, \\n(Secret Key 0) + (Secret Key 1) = {DPF.eval_key(sk_0, x) + DPF.eval_key(sk_1, x)} = y\")"
   ]
  }
 ],
 "metadata": {
  "kernelspec": {
   "display_name": "Python 3.10.4 64-bit",
   "language": "python",
   "name": "python3"
  },
  "language_info": {
   "codemirror_mode": {
    "name": "ipython",
    "version": 3
   },
   "file_extension": ".py",
   "mimetype": "text/x-python",
   "name": "python",
   "nbconvert_exporter": "python",
   "pygments_lexer": "ipython3",
   "version": "3.10.4"
  },
  "orig_nbformat": 4,
  "vscode": {
   "interpreter": {
    "hash": "2ab98c4b59af728aa8bd9922870b996a7fc5861c87b81242319b92eec59b5fef"
   }
  }
 },
 "nbformat": 4,
 "nbformat_minor": 2
}
