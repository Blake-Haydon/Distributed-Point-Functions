{
 "cells": [
  {
   "cell_type": "code",
   "execution_count": 81,
   "metadata": {},
   "outputs": [],
   "source": [
    "import galois\n",
    "from galois import FieldArray\n",
    "import matplotlib.pyplot as plt\n",
    "import numpy as np"
   ]
  },
  {
   "cell_type": "code",
   "execution_count": 82,
   "metadata": {},
   "outputs": [],
   "source": [
    "####### CONSTANTS #######\n",
    "\n",
    "# The range of the point function\n",
    "# In this case we can input any number from 0 to 127 into the point function\n",
    "# This corresponds to the number of elements that could be stored in this data store\n",
    "DOMAIN_SIZE = 128 # |x| = 128\n",
    "\n",
    "# The value stored at each storage slot (x) can be in the range (0, 127)\n",
    "BITS = 8\n",
    "GF = galois.GF(2**BITS) # |y| = 2^8 = 256"
   ]
  },
  {
   "cell_type": "code",
   "execution_count": 83,
   "metadata": {},
   "outputs": [],
   "source": [
    "def Gen_0(x: int, y: int):\n",
    "    # Generate a random key for k0\n",
    "    k0 = GF.Random(DOMAIN_SIZE)\n",
    "    k1 = k0.copy()\n",
    "    \n",
    "    # Generate the specified point\n",
    "    k1[x] = k1[x] - GF(y)\n",
    "    \n",
    "    return (k0, k1)\n",
    "\n",
    "# |y| has been excluded from the inputs as we assume that it is known\n",
    "def Eval_0(k: FieldArray, x: int): \n",
    "    return k[x]"
   ]
  },
  {
   "cell_type": "code",
   "execution_count": 84,
   "metadata": {},
   "outputs": [
    {
     "data": {
      "text/plain": [
       "<BarContainer object of 128 artists>"
      ]
     },
     "execution_count": 84,
     "metadata": {},
     "output_type": "execute_result"
    },
    {
     "data": {
      "image/png": "[encoded data removed]",
      "text/plain": [
       "<Figure size 432x288 with 1 Axes>"
      ]
     },
     "metadata": {
      "needs_background": "light"
     },
     "output_type": "display_data"
    }
   ],
   "source": [
    "# Generate keys for the point P(5) = 45\n",
    "k0, k1 = Gen_0(x=5, y=45)\n",
    "\n",
    "# Observe that the point function key looks random    \n",
    "plt.bar(np.arange(DOMAIN_SIZE), k0)"
   ]
  },
  {
   "cell_type": "code",
   "execution_count": 85,
   "metadata": {},
   "outputs": [],
   "source": [
    "# Eval is to be done separately by each party (no communication of eval should be done between parties)\n",
    "# We will evaluate the function at x=5 (the point), this should yield y=45\n",
    "eval0 = Eval_0(k=k1, x=5)\n",
    "eval1 = Eval_0(k=k0, x=5)\n",
    "\n",
    "# Taking the XOR of the two evaluations will reveal the value of the function at x=3\n",
    "assert eval0 ^ eval1 == 45\n",
    "\n",
    "\n",
    "# We will evaluate the function at x=10 (not the point), this should yield 0\n",
    "eval0 = Eval_0(k=k1, x=10)\n",
    "eval1 = Eval_0(k=k0, x=10)\n",
    "\n",
    "assert eval0 ^ eval1 == 0"
   ]
  },
  {
   "cell_type": "markdown",
   "metadata": {},
   "source": [
    "## Private Information Retrieval (PIR): Read Value from \"Database\""
   ]
  },
  {
   "cell_type": "code",
   "execution_count": 86,
   "metadata": {},
   "outputs": [
    {
     "data": {
      "text/plain": [
       "GF([  0,   1,   2,   3,   4,   5,   6,   7,   8,   9,  10,  11,  12,  13,\n",
       "     14,  15,  16,  17,  18,  19,  20,  21,  22,  23,  24,  25,  26,  27,\n",
       "     28,  29,  30,  31,  32,  33,  34,  35,  36,  37,  38,  39,  40,  41,\n",
       "     42,  43,  44,  45,  46,  47,  48,  49,  50,  51,  52,  53,  54,  55,\n",
       "     56,  57,  58,  59,  60,  61,  62,  63,  64,  65,  66,  67,  68,  69,\n",
       "     70,  71,  72,  73,  74,  75,  76,  77,  78,  79,  80,  81,  82,  83,\n",
       "     84,  85,  86,  87,  88,  89,  90,  91,  92,  93,  94,  95,  96,  97,\n",
       "     98,  99, 100, 101, 102, 103, 104, 105, 106, 107, 108, 109, 110, 111,\n",
       "    112, 113, 114, 115, 116, 117, 118, 119, 120, 121, 122, 123, 124, 125,\n",
       "    126, 127], order=2^8)"
      ]
     },
     "execution_count": 86,
     "metadata": {},
     "output_type": "execute_result"
    }
   ],
   "source": [
    "# We are going to assume our fake database is a list of 128 integers starting from 0 \n",
    "database = GF(np.arange(DOMAIN_SIZE))\n",
    "\n",
    "# i.e. database[n] = n\n",
    "assert database[5] == 5\n",
    "assert database[10] == 10\n",
    "\n",
    "database"
   ]
  },
  {
   "cell_type": "code",
   "execution_count": 106,
   "metadata": {},
   "outputs": [],
   "source": [
    "# We are requesting the value of the database at index 8\n",
    "k0, k1 = Gen_0(x=8, y=1)\n",
    "\n",
    "# We will construct a private query function that will return the value stored at the specified index\n",
    "# This function will be evaluated by each party separately \n",
    "eval0, eval1 = GF(0), GF(0)\n",
    "for i in range(len(database)):\n",
    "    eval0 += Eval_0(k=k1, x=i) * database[i] # will cancel with other eval for all i apart from 8\n",
    "    eval1 += Eval_0(k=k0, x=i) * database[i]\n",
    "\n",
    "\n",
    "# We combine the inputs to reveal the value stored at index 8 by summing the finite field elements\n",
    "# This is the same as taking the XOR of the two evaluations\n",
    "assert eval0 + eval1 == 8"
   ]
  }
 ],
 "metadata": {
  "kernelspec": {
   "display_name": "Python 3.10.4 64-bit",
   "language": "python",
   "name": "python3"
  },
  "language_info": {
   "codemirror_mode": {
    "name": "ipython",
    "version": 3
   },
   "file_extension": ".py",
   "mimetype": "text/x-python",
   "name": "python",
   "nbconvert_exporter": "python",
   "pygments_lexer": "ipython3",
   "version": "3.10.4"
  },
  "orig_nbformat": 4,
  "vscode": {
   "interpreter": {
    "hash": "2ab98c4b59af728aa8bd9922870b996a7fc5861c87b81242319b92eec59b5fef"
   }
  }
 },
 "nbformat": 4,
 "nbformat_minor": 2
}
