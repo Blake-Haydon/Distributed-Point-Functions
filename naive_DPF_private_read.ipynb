{
 "cells": [
  {
   "cell_type": "code",
   "execution_count": 1,
   "metadata": {},
   "outputs": [],
   "source": [
    "import galois\n",
    "from naive_DPF import NaiveDPF"
   ]
  },
  {
   "attachments": {},
   "cell_type": "markdown",
   "metadata": {},
   "source": [
    "## Private Information Retrieval\n",
    "\n",
    "> *TLDR: I want to know a secret value from a database, but I don't want the database to know which value I am interested in.*\n",
    "\n",
    "This notebook demonstrates using a DPF to implement [Private Information Retrieval](https://en.wikipedia.org/wiki/Private_information_retrieval) (PIR). The database is a list of integers, and the client wants to retrieve the value at a specific index. The database does not know which index the client is interested in."
   ]
  },
  {
   "cell_type": "code",
   "execution_count": 2,
   "metadata": {},
   "outputs": [],
   "source": [
    "def PIR_read(GF, index, database):\n",
    "    \"\"\"Reads a value from a database using a private information retrieval protocol\"\"\"\n",
    "\n",
    "    # We are requesting the value of the database at a specified index\n",
    "    DPF = NaiveDPF(GF, num_outputs=len(database))\n",
    "    sk_0, sk_1 = DPF.gen_keys(x=index, y=GF(1))\n",
    "\n",
    "    # We will construct a private query function that will return the value stored at the specified index\n",
    "    # This function will be evaluated by each party separately \n",
    "    eval_0, eval_1 = GF(0), GF(0)\n",
    "    for i in range(len(database)):\n",
    "        eval_0 += DPF.eval_key(sk_0, i) * database[i] # will cancel with other eval for all i apart from 8\n",
    "        eval_1 += DPF.eval_key(sk_1, i) * database[i]\n",
    "\n",
    "    # We combine the inputs to reveal the value stored at the specified index by summing the finite field elements\n",
    "    # This is the same as taking the XOR of the two evaluations for fields of size 2^n\n",
    "    return eval_0 + eval_1"
   ]
  },
  {
   "cell_type": "code",
   "execution_count": 3,
   "metadata": {},
   "outputs": [
    {
     "name": "stdout",
     "output_type": "stream",
     "text": [
      "Privately read value at index 0 is 0\n",
      "Privately read value at index 1 is 1\n",
      "Privately read value at index 2 is 2\n",
      "Privately read value at index 3 is 3\n",
      "Privately read value at index 4 is 4\n",
      "Privately read value at index 5 is 5\n",
      "Privately read value at index 6 is 6\n",
      "Privately read value at index 7 is 7\n",
      "Privately read value at index 8 is 8\n",
      "Privately read value at index 9 is 9\n",
      "Privately read value at index 10 is 10\n",
      "Privately read value at index 11 is 11\n",
      "Privately read value at index 12 is 12\n",
      "Privately read value at index 13 is 13\n",
      "Privately read value at index 14 is 14\n",
      "Privately read value at index 15 is 15\n"
     ]
    }
   ],
   "source": [
    "# We are going to assume our fake database is a list of 128 integers starting from 0 \n",
    "GF = galois.GF(2**8)\n",
    "database = GF.Range(start=0, stop=2**4)\n",
    "\n",
    "# i.e. database[n] = n\n",
    "assert database[5] == 5\n",
    "assert database[10] == 10\n",
    "\n",
    "# We can now privately read the value stored at any index in the database\n",
    "for i in range(len(database)):\n",
    "    print(f\"Privately read value at index {i} is {PIR_read(GF, i, database)}\")"
   ]
  }
 ],
 "metadata": {
  "kernelspec": {
   "display_name": "Python 3",
   "language": "python",
   "name": "python3"
  },
  "language_info": {
   "codemirror_mode": {
    "name": "ipython",
    "version": 3
   },
   "file_extension": ".py",
   "mimetype": "text/x-python",
   "name": "python",
   "nbconvert_exporter": "python",
   "pygments_lexer": "ipython3",
   "version": "3.10.4"
  },
  "orig_nbformat": 4,
  "vscode": {
   "interpreter": {
    "hash": "2ab98c4b59af728aa8bd9922870b996a7fc5861c87b81242319b92eec59b5fef"
   }
  }
 },
 "nbformat": 4,
 "nbformat_minor": 2
}
