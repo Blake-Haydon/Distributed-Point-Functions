{
 "cells": [
  {
   "cell_type": "code",
   "execution_count": 1,
   "metadata": {},
   "outputs": [],
   "source": [
    "import galois\n",
    "import numpy as np\n",
    "import matplotlib.pyplot as plt\n",
    "from naive_DPF import NaiveDPF"
   ]
  },
  {
   "attachments": {},
   "cell_type": "markdown",
   "metadata": {},
   "source": [
    "# Multiple Bit Point Functions\n",
    "\n",
    "This notebook highlights how to create a point which has a value of multiple bits. \n",
    "\n",
    "i.e. $P(5) = 45$ rather than only allowing $P(x) = 1$, which is a single bit point function."
   ]
  },
  {
   "cell_type": "code",
   "execution_count": 2,
   "metadata": {},
   "outputs": [
    {
     "data": {
      "image/png": "[encoded data removed]",
      "text/plain": [
       "<Figure size 432x288 with 1 Axes>"
      ]
     },
     "metadata": {
      "needs_background": "light"
     },
     "output_type": "display_data"
    }
   ],
   "source": [
    "# Generate keys for the point P(5) = 45\n",
    "x = 5\n",
    "y = 45\n",
    "\n",
    "GF = galois.GF(2**8)\n",
    "DPF = NaiveDPF(GF, 2**8)\n",
    "sk_0, sk_1 = DPF.gen_keys(x, GF(y))\n",
    "\n",
    "# Observe that the point function key looks random\n",
    "plt.bar(np.arange(2**8), sk_0)\n",
    "plt.show()"
   ]
  },
  {
   "cell_type": "code",
   "execution_count": 3,
   "metadata": {},
   "outputs": [
    {
     "name": "stdout",
     "output_type": "stream",
     "text": [
      "Expected Value at x=5:   45\n",
      "DPF Output Value at x=5: 45\n"
     ]
    }
   ],
   "source": [
    "# Evaluation is to be done separately by each party (parties should not share evaluated results)\n",
    "# We will evaluate the function at x=5 (the point), this should yield y=45\n",
    "eval_0 = DPF.eval_key(sk_0, x)\n",
    "eval_1 = DPF.eval_key(sk_1, x)\n",
    "\n",
    "# Adding two evaluations together will reveal the value of the function at x=5\n",
    "print(f\"Expected Value at x={x}:   {y}\")\n",
    "print(f\"DPF Output Value at x={x}: {eval_0 + eval_1}\")"
   ]
  },
  {
   "cell_type": "code",
   "execution_count": 4,
   "metadata": {},
   "outputs": [
    {
     "name": "stdout",
     "output_type": "stream",
     "text": [
      "Expected Value at x=10:   0\n",
      "DPF Output Value at x=10: 0\n"
     ]
    }
   ],
   "source": [
    "# We will evaluate the function at x=10 (not the point), this should yield 0\n",
    "eval_0 = DPF.eval_key(sk_0, 10)\n",
    "eval_1 = DPF.eval_key(sk_1, 10)\n",
    "\n",
    "\n",
    "# Adding two evaluations together will reveal the value of the function at x=5\n",
    "print(f\"Expected Value at x={10}:   {0}\")\n",
    "print(f\"DPF Output Value at x={10}: {eval_0 + eval_1}\")"
   ]
  }
 ],
 "metadata": {
  "kernelspec": {
   "display_name": "Python 3.10.4 64-bit",
   "language": "python",
   "name": "python3"
  },
  "language_info": {
   "codemirror_mode": {
    "name": "ipython",
    "version": 3
   },
   "file_extension": ".py",
   "mimetype": "text/x-python",
   "name": "python",
   "nbconvert_exporter": "python",
   "pygments_lexer": "ipython3",
   "version": "3.10.4"
  },
  "orig_nbformat": 4,
  "vscode": {
   "interpreter": {
    "hash": "2ab98c4b59af728aa8bd9922870b996a7fc5861c87b81242319b92eec59b5fef"
   }
  }
 },
 "nbformat": 4,
 "nbformat_minor": 2
}
